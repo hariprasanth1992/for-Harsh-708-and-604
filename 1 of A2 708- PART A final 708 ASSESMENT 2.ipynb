{
 "cells": [
  {
   "cell_type": "code",
   "execution_count": 6,
   "id": "bca7e3e2",
   "metadata": {},
   "outputs": [],
   "source": [
    "# Import necessary libraries\n",
    "import pandas as pd\n",
    "import numpy as np\n",
    "from sklearn.model_selection import train_test_split, GridSearchCV, cross_val_score\n",
    "from sklearn.preprocessing import OneHotEncoder, StandardScaler\n",
    "from sklearn.linear_model import LinearRegression\n",
    "from sklearn.ensemble import RandomForestRegressor\n",
    "from sklearn.metrics import mean_absolute_error, mean_squared_error, r2_score\n"
   ]
  },
  {
   "cell_type": "markdown",
   "id": "06e8453c",
   "metadata": {},
   "source": [
    "# Task 1 (a): Cleaning the Dataset, Handling Missing Values, and Removing Outliers"
   ]
  },
  {
   "cell_type": "code",
   "execution_count": 9,
   "id": "23061c37",
   "metadata": {},
   "outputs": [
    {
     "data": {
      "text/html": [
       "<div>\n",
       "<style scoped>\n",
       "    .dataframe tbody tr th:only-of-type {\n",
       "        vertical-align: middle;\n",
       "    }\n",
       "\n",
       "    .dataframe tbody tr th {\n",
       "        vertical-align: top;\n",
       "    }\n",
       "\n",
       "    .dataframe thead th {\n",
       "        text-align: right;\n",
       "    }\n",
       "</style>\n",
       "<table border=\"1\" class=\"dataframe\">\n",
       "  <thead>\n",
       "    <tr style=\"text-align: right;\">\n",
       "      <th></th>\n",
       "      <th>age</th>\n",
       "      <th>sex</th>\n",
       "      <th>bmi</th>\n",
       "      <th>children</th>\n",
       "      <th>smoker</th>\n",
       "      <th>region</th>\n",
       "      <th>charges</th>\n",
       "    </tr>\n",
       "  </thead>\n",
       "  <tbody>\n",
       "    <tr>\n",
       "      <th>0</th>\n",
       "      <td>19</td>\n",
       "      <td>female</td>\n",
       "      <td>27.900</td>\n",
       "      <td>0</td>\n",
       "      <td>yes</td>\n",
       "      <td>southwest</td>\n",
       "      <td>16884.92400</td>\n",
       "    </tr>\n",
       "    <tr>\n",
       "      <th>1</th>\n",
       "      <td>18</td>\n",
       "      <td>male</td>\n",
       "      <td>33.770</td>\n",
       "      <td>1</td>\n",
       "      <td>no</td>\n",
       "      <td>southeast</td>\n",
       "      <td>1725.55230</td>\n",
       "    </tr>\n",
       "    <tr>\n",
       "      <th>2</th>\n",
       "      <td>28</td>\n",
       "      <td>male</td>\n",
       "      <td>33.000</td>\n",
       "      <td>3</td>\n",
       "      <td>no</td>\n",
       "      <td>southeast</td>\n",
       "      <td>4449.46200</td>\n",
       "    </tr>\n",
       "    <tr>\n",
       "      <th>3</th>\n",
       "      <td>33</td>\n",
       "      <td>male</td>\n",
       "      <td>22.705</td>\n",
       "      <td>0</td>\n",
       "      <td>no</td>\n",
       "      <td>northwest</td>\n",
       "      <td>21984.47061</td>\n",
       "    </tr>\n",
       "    <tr>\n",
       "      <th>4</th>\n",
       "      <td>32</td>\n",
       "      <td>male</td>\n",
       "      <td>28.880</td>\n",
       "      <td>0</td>\n",
       "      <td>no</td>\n",
       "      <td>northwest</td>\n",
       "      <td>3866.85520</td>\n",
       "    </tr>\n",
       "  </tbody>\n",
       "</table>\n",
       "</div>"
      ],
      "text/plain": [
       "   age     sex     bmi  children smoker     region      charges\n",
       "0   19  female  27.900         0    yes  southwest  16884.92400\n",
       "1   18    male  33.770         1     no  southeast   1725.55230\n",
       "2   28    male  33.000         3     no  southeast   4449.46200\n",
       "3   33    male  22.705         0     no  northwest  21984.47061\n",
       "4   32    male  28.880         0     no  northwest   3866.85520"
      ]
     },
     "execution_count": 9,
     "metadata": {},
     "output_type": "execute_result"
    }
   ],
   "source": [
    "# Import pandas library for data manipulation\n",
    "import pandas as pd\n",
    "\n",
    "# Load the dataset into a pandas DataFrame\n",
    "df = pd.read_csv(\"C:\\\\Users\\\\harip\\OneDrive\\\\Desktop\\\\Data analytics\\\\machine leaning\\\\assessment1\\\\dataset\\\\expenses.csv\")\n",
    "\n",
    "\n",
    "# Display the first few rows to get an overview of the data\n",
    "initial_view = df.head()\n",
    "initial_view \n"
   ]
  },
  {
   "cell_type": "code",
   "execution_count": 10,
   "id": "22fda857",
   "metadata": {},
   "outputs": [
    {
     "data": {
      "text/plain": [
       "(1338, 7)"
      ]
     },
     "execution_count": 10,
     "metadata": {},
     "output_type": "execute_result"
    }
   ],
   "source": [
    "# Check for missing values in each column\n",
    "missing_values = df.isnull().sum()\n",
    "\n",
    "# Display the missing values count per column\n",
    "missing_values_count = missing_values[missing_values > 0]\n",
    "missing_values_count  # Display the variable to see the missing values in the report\n",
    "\n",
    "# If missing values are found, opt to remove these rows\n",
    "if missing_values_count.any():\n",
    "    df = df.dropna()\n",
    "\n",
    "# Display the shape of the dataset after removing missing values\n",
    "post_missing_values_removal_shape = df.shape\n",
    "post_missing_values_removal_shape  # Display the variable to see the new shape\n"
   ]
  },
  {
   "cell_type": "code",
   "execution_count": 15,
   "id": "624b98ca",
   "metadata": {},
   "outputs": [
    {
     "data": {
      "text/plain": [
       "(1309, 7)"
      ]
     },
     "execution_count": 15,
     "metadata": {},
     "output_type": "execute_result"
    }
   ],
   "source": [
    "from scipy import stats\n",
    "import numpy as np\n",
    "\n",
    "# Calculate the Z-score for each data point\n",
    "z_scores = stats.zscore(df.select_dtypes(include=[np.number]))\n",
    "abs_z_scores = np.abs(z_scores)\n",
    "\n",
    "# Define a threshold for identifying outliers\n",
    "threshold = 3\n",
    "\n",
    "# Remove outliers\n",
    "df_clean = df[(abs_z_scores < threshold).all(axis=1)]\n",
    "\n",
    "# Display the shape of the dataset after removing outliers\n",
    "post_outliers_removal_shape = df_clean.shape\n",
    "post_outliers_removal_shape  # Display the variable to see the new shape after outlier removal\n"
   ]
  },
  {
   "cell_type": "markdown",
   "id": "7a508ed0",
   "metadata": {},
   "source": [
    "# b) Feature Scaling and Normalization"
   ]
  },
  {
   "cell_type": "code",
   "execution_count": 16,
   "id": "d6e34314",
   "metadata": {},
   "outputs": [
    {
     "name": "stdout",
     "output_type": "stream",
     "text": [
      "        age     sex       bmi  children smoker     region      charges\n",
      "0 -1.439063  female -0.449359 -0.929616    yes  southwest  16884.92400\n",
      "1 -1.510086    male  0.533391 -0.040093     no  southeast   1725.55230\n",
      "2 -0.799859    male  0.404478  1.738954     no  southeast   4449.46200\n",
      "3 -0.444746    male -1.319101 -0.929616     no  northwest  21984.47061\n",
      "4 -0.515769    male -0.285288 -0.929616     no  northwest   3866.85520\n"
     ]
    }
   ],
   "source": [
    "from sklearn.preprocessing import StandardScaler\n",
    "\n",
    "# Assuming df_clean is your DataFrame after removing missing values and outliers\n",
    "\n",
    "# Initialize the StandardScaler\n",
    "scaler = StandardScaler()\n",
    "\n",
    "# List of numerical features to scale (excluding 'charges' as it is the target variable)\n",
    "numerical_features = ['age', 'bmi', 'children']\n",
    "\n",
    "# Create a copy of the DataFrame to avoid the SettingWithCopyWarning\n",
    "# and apply scaling to the numerical features directly\n",
    "df_clean.loc[:, numerical_features] = scaler.fit_transform(df_clean[numerical_features])\n",
    "\n",
    "# Display the scaled features to verify the scaling\n",
    "scaled_features_preview = df_clean.head()\n",
    "print(scaled_features_preview)\n",
    "\n"
   ]
  },
  {
   "cell_type": "markdown",
   "id": "1b57f355",
   "metadata": {},
   "source": [
    "# c) Encoding Categorical Variables"
   ]
  },
  {
   "cell_type": "code",
   "execution_count": 17,
   "id": "ecb502c5",
   "metadata": {},
   "outputs": [
    {
     "name": "stdout",
     "output_type": "stream",
     "text": [
      "        age       bmi  children      charges  sex_female  sex_male  smoker_no  \\\n",
      "0 -1.439063 -0.449359 -0.929616  16884.92400         1.0       0.0        0.0   \n",
      "1 -1.510086  0.533391 -0.040093   1725.55230         0.0       1.0        1.0   \n",
      "2 -0.799859  0.404478  1.738954   4449.46200         0.0       1.0        1.0   \n",
      "3 -0.444746 -1.319101 -0.929616  21984.47061         0.0       1.0        1.0   \n",
      "4 -0.515769 -0.285288 -0.929616   3866.85520         0.0       1.0        1.0   \n",
      "\n",
      "   smoker_yes  region_northeast  region_northwest  region_southeast  \\\n",
      "0         1.0               0.0               0.0               0.0   \n",
      "1         0.0               0.0               0.0               1.0   \n",
      "2         0.0               0.0               0.0               1.0   \n",
      "3         0.0               0.0               1.0               0.0   \n",
      "4         0.0               0.0               1.0               0.0   \n",
      "\n",
      "   region_southwest  \n",
      "0               1.0  \n",
      "1               0.0  \n",
      "2               0.0  \n",
      "3               0.0  \n",
      "4               0.0  \n"
     ]
    },
    {
     "name": "stderr",
     "output_type": "stream",
     "text": [
      "C:\\Users\\harip\\anaconda3\\Lib\\site-packages\\sklearn\\preprocessing\\_encoders.py:972: FutureWarning: `sparse` was renamed to `sparse_output` in version 1.2 and will be removed in 1.4. `sparse_output` is ignored unless you leave `sparse` to its default value.\n",
      "  warnings.warn(\n"
     ]
    }
   ],
   "source": [
    "from sklearn.preprocessing import OneHotEncoder\n",
    "\n",
    "# Initialize OneHotEncoder\n",
    "encoder = OneHotEncoder(sparse=False)\n",
    "\n",
    "# Select categorical data\n",
    "categorical_features = ['sex', 'smoker', 'region']\n",
    "\n",
    "# Assuming df_clean is your DataFrame after scaling numerical features\n",
    "# Fit the encoder and transform the categorical data\n",
    "encoded_features = encoder.fit_transform(df_clean[categorical_features])\n",
    "\n",
    "# Create a DataFrame with the encoded variables\n",
    "encoded_vars_df = pd.DataFrame(encoded_features, columns=encoder.get_feature_names_out(categorical_features))\n",
    "\n",
    "# Concatenate the encoded variables with the original DataFrame\n",
    "# Drop original categorical features to avoid redundancy\n",
    "df_final = pd.concat([df_clean.drop(categorical_features, axis=1).reset_index(drop=True), encoded_vars_df.reset_index(drop=True)], axis=1)\n",
    "\n",
    "# Display the DataFrame to verify the encoding\n",
    "encoded_features_preview = df_final.head()\n",
    "print(encoded_features_preview)\n"
   ]
  },
  {
   "cell_type": "markdown",
   "id": "72e97aa3",
   "metadata": {},
   "source": [
    "# Splitting the Dataset into Training and Testing Sets"
   ]
  },
  {
   "cell_type": "code",
   "execution_count": 18,
   "id": "33678499",
   "metadata": {},
   "outputs": [
    {
     "name": "stdout",
     "output_type": "stream",
     "text": [
      "Training set shape (X_train): (1047, 11)\n",
      "Testing set shape (X_test): (262, 11)\n",
      "Training target shape (y_train): (1047,)\n",
      "Testing target shape (y_test): (262,)\n"
     ]
    }
   ],
   "source": [
    "from sklearn.model_selection import train_test_split\n",
    "\n",
    "# Assuming df_final is your preprocessed DataFrame\n",
    "# Define the features (X) and the target (y). Here, 'charges' is considered as the target variable.\n",
    "X = df_final.drop('charges', axis=1)\n",
    "y = df_final['charges']\n",
    "\n",
    "# Split the data into training and testing sets. Here, we'll use 80% of the data for training and 20% for testing.\n",
    "X_train, X_test, y_train, y_test = train_test_split(X, y, test_size=0.2, random_state=42)\n",
    "\n",
    "# Display the shapes of the training and testing sets to verify the split\n",
    "print(\"Training set shape (X_train):\", X_train.shape)\n",
    "print(\"Testing set shape (X_test):\", X_test.shape)\n",
    "print(\"Training target shape (y_train):\", y_train.shape)\n",
    "print(\"Testing target shape (y_test):\", y_test.shape)\n"
   ]
  },
  {
   "cell_type": "markdown",
   "id": "13cf27a3",
   "metadata": {},
   "source": [
    "# Building a Linear Regression Model"
   ]
  },
  {
   "cell_type": "code",
   "execution_count": 20,
   "id": "4aefdef4",
   "metadata": {},
   "outputs": [
    {
     "name": "stdout",
     "output_type": "stream",
     "text": [
      "Linear Regression Performance:\n",
      "Mean Absolute Error: 3969.0341267772073\n",
      "Mean Squared Error: 30444091.526395813\n",
      "R^2 Score: 0.7787373616773112\n"
     ]
    }
   ],
   "source": [
    "from sklearn.linear_model import LinearRegression\n",
    "\n",
    "# Initialize the Linear Regression model\n",
    "lr_model = LinearRegression()\n",
    "\n",
    "# Fit the model on the training data\n",
    "lr_model.fit(X_train, y_train)\n",
    "\n",
    "# Make predictions on the testing set\n",
    "y_pred_lr = lr_model.predict(X_test)\n",
    "\n",
    "# Evaluate the model's performance\n",
    "mae_lr = mean_absolute_error(y_test, y_pred_lr)\n",
    "mse_lr = mean_squared_error(y_test, y_pred_lr)\n",
    "r2_lr = r2_score(y_test, y_pred_lr)\n",
    "\n",
    "print(\"Linear Regression Performance:\")\n",
    "print(\"Mean Absolute Error:\", mae_lr)\n",
    "print(\"Mean Squared Error:\", mse_lr)\n",
    "print(\"R^2 Score:\", r2_lr)\n"
   ]
  },
  {
   "cell_type": "markdown",
   "id": "42741735",
   "metadata": {},
   "source": [
    "# Building a Random Forest Regressor Model"
   ]
  },
  {
   "cell_type": "code",
   "execution_count": 19,
   "id": "360a0a41",
   "metadata": {},
   "outputs": [
    {
     "name": "stdout",
     "output_type": "stream",
     "text": [
      "Random Forest Regressor Performance:\n",
      "Mean Absolute Error: 2277.369279230782\n",
      "Mean Squared Error: 18336632.019949064\n",
      "R^2 Score: 0.8667323813828205\n"
     ]
    }
   ],
   "source": [
    "from sklearn.ensemble import RandomForestRegressor\n",
    "\n",
    "# Initialize the Random Forest Regressor model\n",
    "rf_model = RandomForestRegressor(random_state=42)\n",
    "\n",
    "# Fit the model on the training data\n",
    "rf_model.fit(X_train, y_train)\n",
    "\n",
    "# Make predictions on the testing set\n",
    "y_pred_rf = rf_model.predict(X_test)\n",
    "\n",
    "# Evaluate the model's performance\n",
    "mae_rf = mean_absolute_error(y_test, y_pred_rf)\n",
    "mse_rf = mean_squared_error(y_test, y_pred_rf)\n",
    "r2_rf = r2_score(y_test, y_pred_rf)\n",
    "\n",
    "print(\"Random Forest Regressor Performance:\")\n",
    "print(\"Mean Absolute Error:\", mae_rf)\n",
    "print(\"Mean Squared Error:\", mse_rf)\n",
    "print(\"R^2 Score:\", r2_rf)\n"
   ]
  },
  {
   "cell_type": "code",
   "execution_count": 23,
   "id": "ae4afb09",
   "metadata": {},
   "outputs": [
    {
     "name": "stdout",
     "output_type": "stream",
     "text": [
      "Fitting 5 folds for each of 8 candidates, totalling 40 fits\n",
      "Best parameters found: {'max_depth': 10, 'min_samples_leaf': 2, 'n_estimators': 100}\n"
     ]
    }
   ],
   "source": [
    "from sklearn.model_selection import GridSearchCV\n",
    "\n",
    "# Define parameter grid\n",
    "param_grid = {\n",
    "    'n_estimators': [100, 150],\n",
    "    'max_depth': [None, 10],\n",
    "    'min_samples_leaf': [1, 2]\n",
    "}\n",
    "\n",
    "# Initialize GridSearchCV\n",
    "grid_search = GridSearchCV(estimator=rf_model, param_grid=param_grid, cv=5, n_jobs=-1, verbose=2)\n",
    "grid_search.fit(X_train, y_train)\n",
    "\n",
    "# Best parameters found\n",
    "print(\"Best parameters found:\", grid_search.best_params_)\n"
   ]
  },
  {
   "cell_type": "code",
   "execution_count": 24,
   "id": "dbe5cd1c",
   "metadata": {},
   "outputs": [
    {
     "name": "stdout",
     "output_type": "stream",
     "text": [
      "Optimized Random Forest Regressor Performance:\n",
      "Mean Absolute Error: 2199.4804595509477\n",
      "Mean Squared Error: 16487985.868555585\n",
      "R^2 Score: 0.8801680368507382\n"
     ]
    }
   ],
   "source": [
    "# Use the best parameters to build the optimized model\n",
    "rf_optimized = grid_search.best_estimator_\n",
    "\n",
    "# Make predictions on the test set\n",
    "y_pred_rf_optimized = rf_optimized.predict(X_test)\n",
    "\n",
    "# Evaluate the optimized model's performance\n",
    "mae_rf_optimized = mean_absolute_error(y_test, y_pred_rf_optimized)\n",
    "mse_rf_optimized = mean_squared_error(y_test, y_pred_rf_optimized)\n",
    "r2_rf_optimized = r2_score(y_test, y_pred_rf_optimized)\n",
    "\n",
    "# Performance Output\n",
    "print(\"Optimized Random Forest Regressor Performance:\")\n",
    "print(\"Mean Absolute Error:\", mae_rf_optimized)\n",
    "print(\"Mean Squared Error:\", mse_rf_optimized)\n",
    "print(\"R^2 Score:\", r2_rf_optimized)\n"
   ]
  },
  {
   "cell_type": "code",
   "execution_count": null,
   "id": "8050ee8e",
   "metadata": {},
   "outputs": [],
   "source": []
  },
  {
   "cell_type": "code",
   "execution_count": 27,
   "id": "9b5ddda3",
   "metadata": {},
   "outputs": [],
   "source": [
    "# Linear Regression Evaluation\n",
    "mae_lr = mean_absolute_error(y_test, y_pred_lr)\n",
    "mse_lr = mean_squared_error(y_test, y_pred_lr)\n",
    "r2_lr = r2_score(y_test, y_pred_lr)\n",
    "\n",
    "# Optimized Random Forest Evaluation\n",
    "mae_rf_optimized = mean_absolute_error(y_test, y_pred_rf_optimized)\n",
    "mse_rf_optimized = mean_squared_error(y_test, y_pred_rf_optimized)\n",
    "r2_rf_optimized = r2_score(y_test, y_pred_rf_optimized)\n"
   ]
  },
  {
   "cell_type": "markdown",
   "id": "da15c2d7",
   "metadata": {},
   "source": [
    "# b) Implement k-Fold Cross-Validation"
   ]
  },
  {
   "cell_type": "code",
   "execution_count": 25,
   "id": "6e8401ee",
   "metadata": {},
   "outputs": [
    {
     "name": "stdout",
     "output_type": "stream",
     "text": [
      "Linear Regression CV R² Scores: [0.79204911 0.73211526 0.73499309 0.67780041 0.7576718  0.80445118\n",
      " 0.82523224 0.63082728 0.74551721 0.7814957 ]\n",
      "Average R² Score: 0.7482153271170179\n",
      "Optimized Random Forest CV R² Scores: [0.88523494 0.85205007 0.82474848 0.76192324 0.83451363 0.92637766\n",
      " 0.89613065 0.76949972 0.85726054 0.88227188]\n",
      "Average R² Score: 0.8490010794688153\n"
     ]
    }
   ],
   "source": [
    "from sklearn.model_selection import cross_val_score\n",
    "\n",
    "# For Linear Regression\n",
    "cv_scores_lr = cross_val_score(lr_model, X, y, cv=10, scoring='r2')\n",
    "print(\"Linear Regression CV R² Scores:\", cv_scores_lr)\n",
    "print(\"Average R² Score:\", cv_scores_lr.mean())\n",
    "\n",
    "# For Optimized Random Forest\n",
    "cv_scores_rf = cross_val_score(rf_optimized, X, y, cv=10, scoring='r2')\n",
    "print(\"Optimized Random Forest CV R² Scores:\", cv_scores_rf)\n",
    "print(\"Average R² Score:\", cv_scores_rf.mean())\n"
   ]
  },
  {
   "cell_type": "markdown",
   "id": "936dbe19",
   "metadata": {},
   "source": [
    "# c) Select the Best-Performing Regression Model"
   ]
  }
 ],
 "metadata": {
  "kernelspec": {
   "display_name": "Python 3 (ipykernel)",
   "language": "python",
   "name": "python3"
  },
  "language_info": {
   "codemirror_mode": {
    "name": "ipython",
    "version": 3
   },
   "file_extension": ".py",
   "mimetype": "text/x-python",
   "name": "python",
   "nbconvert_exporter": "python",
   "pygments_lexer": "ipython3",
   "version": "3.11.5"
  }
 },
 "nbformat": 4,
 "nbformat_minor": 5
}

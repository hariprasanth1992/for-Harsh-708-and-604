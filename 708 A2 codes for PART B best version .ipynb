{
 "cells": [
  {
   "cell_type": "markdown",
   "id": "0d9d7e1b",
   "metadata": {},
   "source": [
    "# part B"
   ]
  },
  {
   "cell_type": "markdown",
   "id": "901f81df",
   "metadata": {},
   "source": [
    "# Task-1 Data Preprocessing"
   ]
  },
  {
   "cell_type": "markdown",
   "id": "48a0b187",
   "metadata": {},
   "source": [
    "# a) Loading the data"
   ]
  },
  {
   "cell_type": "code",
   "execution_count": 42,
   "id": "ac04e21f",
   "metadata": {},
   "outputs": [
    {
     "name": "stdout",
     "output_type": "stream",
     "text": [
      "   variance  skewness  curtosis  entropy  class\n",
      "0   3.62160    8.6661   -2.8073 -0.44699      0\n",
      "1   4.54590    8.1674   -2.4586 -1.46210      0\n",
      "2   3.86600   -2.6383    1.9242  0.10645      0\n",
      "3   3.45660    9.5228   -4.0112 -3.59440      0\n",
      "4   0.32924   -4.4552    4.5718 -0.98880      0\n"
     ]
    }
   ],
   "source": [
    "# import pandas as pd\n",
    "import pandas as pd\n",
    "import numpy as np\n",
    "from scipy import stats\n",
    "from sklearn.preprocessing import StandardScaler, OneHotEncoder\n",
    "\n",
    "# Load the dataset\n",
    "df = pd.read_csv(\"C:\\\\Users\\\\harip\\\\OneDrive\\\\Desktop\\\\Data analytics\\\\machine leaning\\\\assessment1\\\\dataset\\\\BankNote_Authentication.csv\")\n",
    "\n",
    "# Display the first few entries for a snapshot of the data structure\n",
    "print(df.head())\n"
   ]
  },
  {
   "cell_type": "markdown",
   "id": "55f4f422",
   "metadata": {},
   "source": [
    "# removing the missing values"
   ]
  },
  {
   "cell_type": "code",
   "execution_count": 43,
   "id": "8a1b350c",
   "metadata": {},
   "outputs": [],
   "source": [
    "df.dropna(inplace=True)\n"
   ]
  },
  {
   "cell_type": "markdown",
   "id": "216215b9",
   "metadata": {},
   "source": [
    "# removing outliers"
   ]
  },
  {
   "cell_type": "code",
   "execution_count": 44,
   "id": "035ac4c8",
   "metadata": {},
   "outputs": [],
   "source": [
    "# Assuming there are no missing values, we are proceeding to outlier removal\n",
    "# Calculating the Z-score for numerical columns\n",
    "z_scores = stats.zscore(df.select_dtypes(include=[np.number]))\n",
    "abs_z_scores = np.abs(z_scores)\n",
    "\n",
    "# Filter out the outliers\n",
    "df_clean = df[(abs_z_scores < 3).all(axis=1)].copy()"
   ]
  },
  {
   "cell_type": "markdown",
   "id": "973ef67e",
   "metadata": {},
   "source": [
    "# b) Perform feature scaling or normalization"
   ]
  },
  {
   "cell_type": "code",
   "execution_count": 45,
   "id": "e372f281",
   "metadata": {},
   "outputs": [],
   "source": [
    "\n",
    "# Proceed with feature scaling on the numerical columns\n",
    "scaler = StandardScaler()\n",
    "# Get the list of numerical features, excluding 'class' which is the target\n",
    "numerical_features = [col for col in df_clean.columns if col != 'class']\n",
    "# Apply the scaling to the numerical features\n",
    "df_clean.loc[:, numerical_features] = scaler.fit_transform(df_clean[numerical_features])\n"
   ]
  },
  {
   "cell_type": "markdown",
   "id": "5dc8553a",
   "metadata": {},
   "source": [
    "# more cleaning"
   ]
  },
  {
   "cell_type": "code",
   "execution_count": 46,
   "id": "6883eb30",
   "metadata": {},
   "outputs": [],
   "source": [
    "from sklearn.impute import SimpleImputer\n",
    "\n",
    "# For numerical columns, you can fill missing values with the mean or median\n",
    "imputer = SimpleImputer(strategy='mean')  # Or strategy='median'\n",
    "df_clean[numerical_features] = imputer.fit_transform(df_clean[numerical_features])\n"
   ]
  },
  {
   "cell_type": "code",
   "execution_count": 47,
   "id": "17d99a59",
   "metadata": {},
   "outputs": [],
   "source": [
    "from sklearn.impute import KNNImputer\n",
    "\n",
    "imputer = KNNImputer(n_neighbors=5)\n",
    "df_clean[numerical_features] = imputer.fit_transform(df_clean[numerical_features])\n"
   ]
  },
  {
   "cell_type": "code",
   "execution_count": 48,
   "id": "babd3af3",
   "metadata": {},
   "outputs": [
    {
     "name": "stdout",
     "output_type": "stream",
     "text": [
      "   variance  skewness  curtosis   entropy  class\n",
      "0  1.103540  1.186418 -1.013448  0.328655      0\n",
      "1  1.434725  1.097028 -0.925150 -0.179100      0\n",
      "2  1.191111 -0.839847  0.184664  0.605483      0\n",
      "3  1.044419  1.339977 -1.318300 -1.245668      0\n",
      "4 -0.076142 -1.165518  0.855089  0.057643      0\n"
     ]
    }
   ],
   "source": [
    "print(df_clean.head())"
   ]
  },
  {
   "cell_type": "code",
   "execution_count": 49,
   "id": "0e1852ba",
   "metadata": {},
   "outputs": [
    {
     "name": "stdout",
     "output_type": "stream",
     "text": [
      "All missing values handled successfully.\n"
     ]
    }
   ],
   "source": [
    "if not df_clean.isnull().sum().any():\n",
    "    print(\"All missing values handled successfully.\")\n",
    "else:\n",
    "    print(\"Missing values still present.\")\n"
   ]
  },
  {
   "cell_type": "markdown",
   "id": "1c7bd964",
   "metadata": {},
   "source": [
    "# c) Encode categorical variables appropriately."
   ]
  },
  {
   "cell_type": "code",
   "execution_count": 50,
   "id": "3ec49674",
   "metadata": {},
   "outputs": [
    {
     "name": "stdout",
     "output_type": "stream",
     "text": [
      "   variance  skewness  curtosis   entropy  class\n",
      "0  1.103540  1.186418 -1.013448  0.328655    0.0\n",
      "1  1.434725  1.097028 -0.925150 -0.179100    0.0\n",
      "2  1.191111 -0.839847  0.184664  0.605483    0.0\n",
      "3  1.044419  1.339977 -1.318300 -1.245668    0.0\n",
      "4 -0.076142 -1.165518  0.855089  0.057643    0.0\n"
     ]
    },
    {
     "name": "stderr",
     "output_type": "stream",
     "text": [
      "C:\\Users\\harip\\anaconda3\\Lib\\site-packages\\sklearn\\preprocessing\\_encoders.py:972: FutureWarning: `sparse` was renamed to `sparse_output` in version 1.2 and will be removed in 1.4. `sparse_output` is ignored unless you leave `sparse` to its default value.\n",
      "  warnings.warn(\n"
     ]
    }
   ],
   "source": [
    "# Encoding categorical variables, if present\n",
    "# Initialize the OneHotEncoder\n",
    "encoder = OneHotEncoder(sparse=False, drop='first')\n",
    "# Identify categorical columns (Note: Adjust this if you have categorical columns)\n",
    "categorical_features = df_clean.select_dtypes(include=['object']).columns.tolist()\n",
    "# Apply the encoder to the categorical columns\n",
    "encoded_features = encoder.fit_transform(df_clean[categorical_features])\n",
    "# Create a DataFrame with encoded variables\n",
    "encoded_vars_df = pd.DataFrame(encoded_features, columns=encoder.get_feature_names_out(categorical_features))\n",
    "# Concatenate the DataFrame with the original one and drop the original categorical columns\n",
    "df_clean = pd.concat([df_clean.drop(categorical_features, axis=1), encoded_vars_df], axis=1)\n",
    "\n",
    "# Display the cleaned DataFrame\n",
    "print(df_clean.head())"
   ]
  },
  {
   "cell_type": "markdown",
   "id": "4ca88b5c",
   "metadata": {},
   "source": [
    "# d) Split the dataset into training and testing sets. "
   ]
  },
  {
   "cell_type": "code",
   "execution_count": 51,
   "id": "85632172",
   "metadata": {},
   "outputs": [
    {
     "name": "stdout",
     "output_type": "stream",
     "text": [
      "Training Features Shape: (1096, 4)\n",
      "Training Target Shape: (1096,)\n",
      "Testing Features Shape: (275, 4)\n",
      "Testing Target Shape: (275,)\n"
     ]
    }
   ],
   "source": [
    "from sklearn.model_selection import train_test_split\n",
    "\n",
    "# Define the features and the target variable\n",
    "X = df_clean.drop('class', axis=1)  # Independent variables\n",
    "y = df_clean['class']               # Dependent variable (target)\n",
    "\n",
    "# Split the data into an 80% training subset and a 20% testing subset\n",
    "X_train, X_test, y_train, y_test = train_test_split(X, y, test_size=0.2, random_state=42)\n",
    "\n",
    "# Confirm the sizes of the training and testing sets\n",
    "print(f\"Training Features Shape: {X_train.shape}\")\n",
    "print(f\"Training Target Shape: {y_train.shape}\")\n",
    "print(f\"Testing Features Shape: {X_test.shape}\")\n",
    "print(f\"Testing Target Shape: {y_test.shape}\")\n",
    "\n"
   ]
  },
  {
   "cell_type": "markdown",
   "id": "3c7dbb8e",
   "metadata": {},
   "source": [
    "# recleaning to check if data is clean"
   ]
  },
  {
   "cell_type": "code",
   "execution_count": 52,
   "id": "dfde060e",
   "metadata": {},
   "outputs": [
    {
     "name": "stdout",
     "output_type": "stream",
     "text": [
      "NaN values in 'y' before: 35\n"
     ]
    }
   ],
   "source": [
    "# Check for NaN values in 'y'\n",
    "print(\"NaN values in 'y' before:\", y.isnull().sum())\n",
    "\n",
    "# Option 1: Remove rows where 'y' is NaN\n",
    "# This is a common approach if the number of such rows is small\n",
    "y = y.dropna()"
   ]
  },
  {
   "cell_type": "code",
   "execution_count": 53,
   "id": "39c4d8f8",
   "metadata": {},
   "outputs": [
    {
     "name": "stdout",
     "output_type": "stream",
     "text": [
      "NaN values in 'y' after: 0\n"
     ]
    }
   ],
   "source": [
    "# Re-check NaN values in 'y'\n",
    "print(\"NaN values in 'y' after:\", y.isnull().sum())"
   ]
  },
  {
   "cell_type": "code",
   "execution_count": 54,
   "id": "a73222f1",
   "metadata": {},
   "outputs": [
    {
     "name": "stdout",
     "output_type": "stream",
     "text": [
      "Length of X: 1336\n",
      "Length of y: 1336\n"
     ]
    }
   ],
   "source": [
    "# Assuming 'df' is your original DataFrame and you've already cleaned 'y'\n",
    "# Ensure 'X' corresponds to the same rows as 'y' by using the index\n",
    "X = X.loc[y.index]\n",
    "\n",
    "# Now, 'X' and 'y' should have the same length\n",
    "print(\"Length of X:\", len(X))\n",
    "print(\"Length of y:\", len(y))\n"
   ]
  },
  {
   "cell_type": "markdown",
   "id": "81b3269b",
   "metadata": {},
   "source": [
    "# d) Split the dataset into training and testing sets. "
   ]
  },
  {
   "cell_type": "code",
   "execution_count": 55,
   "id": "b61a55d1",
   "metadata": {},
   "outputs": [],
   "source": [
    "from sklearn.model_selection import train_test_split\n",
    "\n",
    "# Splitting the data\n",
    "X_train, X_test, y_train, y_test = train_test_split(X, y, test_size=0.2, random_state=42)\n",
    "\n",
    "# Proceed with GridSearchCV or any other model training\n"
   ]
  },
  {
   "cell_type": "markdown",
   "id": "2c6b9031",
   "metadata": {},
   "source": [
    "# Task-2 Model Building with hyperparameter tuning"
   ]
  },
  {
   "cell_type": "markdown",
   "id": "9867764c",
   "metadata": {},
   "source": [
    "# a) choosing random forest classifier and SVM for model building"
   ]
  },
  {
   "cell_type": "code",
   "execution_count": 56,
   "id": "b78d868d",
   "metadata": {},
   "outputs": [],
   "source": [
    "from sklearn.ensemble import RandomForestClassifier\n",
    "from sklearn.svm import SVC\n",
    "\n",
    "# Initialize the classifiers\n",
    "rf_classifier = RandomForestClassifier(random_state=42)\n"
   ]
  },
  {
   "cell_type": "code",
   "execution_count": 57,
   "id": "262e218f",
   "metadata": {},
   "outputs": [],
   "source": [
    "svm_classifier = SVC(random_state=42)\n"
   ]
  },
  {
   "cell_type": "markdown",
   "id": "cc422a0e",
   "metadata": {},
   "source": [
    "# Implementing hyperparameter tuning by conducting a grid search on the Random Forest model"
   ]
  },
  {
   "cell_type": "code",
   "execution_count": 58,
   "id": "c381cd31",
   "metadata": {},
   "outputs": [
    {
     "name": "stdout",
     "output_type": "stream",
     "text": [
      "Fitting 5 folds for each of 36 candidates, totalling 180 fits\n",
      "Best parameters for Random Forest: {'max_depth': None, 'min_samples_leaf': 1, 'min_samples_split': 2, 'n_estimators': 100}\n"
     ]
    }
   ],
   "source": [
    "from sklearn.model_selection import GridSearchCV\n",
    "\n",
    "# Random Forest parameter grid\n",
    "param_grid_rf = {\n",
    "    'n_estimators': [100, 200, 300],\n",
    "    'max_depth': [None, 10, 20],\n",
    "    'min_samples_split': [2, 5],\n",
    "    'min_samples_leaf': [1, 2]\n",
    "}\n",
    "\n",
    "# GridSearchCV for Random Forest\n",
    "grid_search_rf = GridSearchCV(estimator=RandomForestClassifier(random_state=42),\n",
    "                              param_grid=param_grid_rf, cv=5, verbose=2, n_jobs=-1)\n",
    "grid_search_rf.fit(X_train, y_train)\n",
    "\n",
    "# Best Random Forest model\n",
    "rf_optimized = grid_search_rf.best_estimator_\n",
    "print(\"Best parameters for Random Forest:\", grid_search_rf.best_params_)\n"
   ]
  },
  {
   "cell_type": "markdown",
   "id": "3364d6f7",
   "metadata": {},
   "source": [
    "# Implementing hyperparameter tuning by conducting a grid search on the SVM model"
   ]
  },
  {
   "cell_type": "code",
   "execution_count": 33,
   "id": "0df23773",
   "metadata": {},
   "outputs": [
    {
     "name": "stdout",
     "output_type": "stream",
     "text": [
      "Fitting 5 folds for each of 18 candidates, totalling 90 fits\n",
      "Best parameters for SVM: {'C': 1, 'gamma': 'scale', 'kernel': 'rbf'}\n"
     ]
    }
   ],
   "source": [
    "# SVM parameter grid\n",
    "param_grid_svm = {\n",
    "    'C': [0.1, 1, 10],\n",
    "    'kernel': ['rbf', 'poly', 'sigmoid'],\n",
    "    'gamma': ['scale', 'auto']\n",
    "}\n",
    "\n",
    "# GridSearchCV for SVM\n",
    "grid_search_svm = GridSearchCV(estimator=SVC(random_state=42),\n",
    "                               param_grid=param_grid_svm, cv=5, verbose=2, n_jobs=-1)\n",
    "grid_search_svm.fit(X_train, y_train)\n",
    "\n",
    "# Best SVM model\n",
    "svm_optimized = grid_search_svm.best_estimator_\n",
    "print(\"Best parameters for SVM:\", grid_search_svm.best_params_)\n"
   ]
  },
  {
   "cell_type": "markdown",
   "id": "16e83ff8",
   "metadata": {},
   "source": [
    "# c) Build the classification model using the training data. "
   ]
  },
  {
   "cell_type": "code",
   "execution_count": 34,
   "id": "eb4cef5b",
   "metadata": {},
   "outputs": [
    {
     "data": {
      "text/html": [
       "<style>#sk-container-id-1 {color: black;}#sk-container-id-1 pre{padding: 0;}#sk-container-id-1 div.sk-toggleable {background-color: white;}#sk-container-id-1 label.sk-toggleable__label {cursor: pointer;display: block;width: 100%;margin-bottom: 0;padding: 0.3em;box-sizing: border-box;text-align: center;}#sk-container-id-1 label.sk-toggleable__label-arrow:before {content: \"▸\";float: left;margin-right: 0.25em;color: #696969;}#sk-container-id-1 label.sk-toggleable__label-arrow:hover:before {color: black;}#sk-container-id-1 div.sk-estimator:hover label.sk-toggleable__label-arrow:before {color: black;}#sk-container-id-1 div.sk-toggleable__content {max-height: 0;max-width: 0;overflow: hidden;text-align: left;background-color: #f0f8ff;}#sk-container-id-1 div.sk-toggleable__content pre {margin: 0.2em;color: black;border-radius: 0.25em;background-color: #f0f8ff;}#sk-container-id-1 input.sk-toggleable__control:checked~div.sk-toggleable__content {max-height: 200px;max-width: 100%;overflow: auto;}#sk-container-id-1 input.sk-toggleable__control:checked~label.sk-toggleable__label-arrow:before {content: \"▾\";}#sk-container-id-1 div.sk-estimator input.sk-toggleable__control:checked~label.sk-toggleable__label {background-color: #d4ebff;}#sk-container-id-1 div.sk-label input.sk-toggleable__control:checked~label.sk-toggleable__label {background-color: #d4ebff;}#sk-container-id-1 input.sk-hidden--visually {border: 0;clip: rect(1px 1px 1px 1px);clip: rect(1px, 1px, 1px, 1px);height: 1px;margin: -1px;overflow: hidden;padding: 0;position: absolute;width: 1px;}#sk-container-id-1 div.sk-estimator {font-family: monospace;background-color: #f0f8ff;border: 1px dotted black;border-radius: 0.25em;box-sizing: border-box;margin-bottom: 0.5em;}#sk-container-id-1 div.sk-estimator:hover {background-color: #d4ebff;}#sk-container-id-1 div.sk-parallel-item::after {content: \"\";width: 100%;border-bottom: 1px solid gray;flex-grow: 1;}#sk-container-id-1 div.sk-label:hover label.sk-toggleable__label {background-color: #d4ebff;}#sk-container-id-1 div.sk-serial::before {content: \"\";position: absolute;border-left: 1px solid gray;box-sizing: border-box;top: 0;bottom: 0;left: 50%;z-index: 0;}#sk-container-id-1 div.sk-serial {display: flex;flex-direction: column;align-items: center;background-color: white;padding-right: 0.2em;padding-left: 0.2em;position: relative;}#sk-container-id-1 div.sk-item {position: relative;z-index: 1;}#sk-container-id-1 div.sk-parallel {display: flex;align-items: stretch;justify-content: center;background-color: white;position: relative;}#sk-container-id-1 div.sk-item::before, #sk-container-id-1 div.sk-parallel-item::before {content: \"\";position: absolute;border-left: 1px solid gray;box-sizing: border-box;top: 0;bottom: 0;left: 50%;z-index: -1;}#sk-container-id-1 div.sk-parallel-item {display: flex;flex-direction: column;z-index: 1;position: relative;background-color: white;}#sk-container-id-1 div.sk-parallel-item:first-child::after {align-self: flex-end;width: 50%;}#sk-container-id-1 div.sk-parallel-item:last-child::after {align-self: flex-start;width: 50%;}#sk-container-id-1 div.sk-parallel-item:only-child::after {width: 0;}#sk-container-id-1 div.sk-dashed-wrapped {border: 1px dashed gray;margin: 0 0.4em 0.5em 0.4em;box-sizing: border-box;padding-bottom: 0.4em;background-color: white;}#sk-container-id-1 div.sk-label label {font-family: monospace;font-weight: bold;display: inline-block;line-height: 1.2em;}#sk-container-id-1 div.sk-label-container {text-align: center;}#sk-container-id-1 div.sk-container {/* jupyter's `normalize.less` sets `[hidden] { display: none; }` but bootstrap.min.css set `[hidden] { display: none !important; }` so we also need the `!important` here to be able to override the default hidden behavior on the sphinx rendered scikit-learn.org. See: https://github.com/scikit-learn/scikit-learn/issues/21755 */display: inline-block !important;position: relative;}#sk-container-id-1 div.sk-text-repr-fallback {display: none;}</style><div id=\"sk-container-id-1\" class=\"sk-top-container\"><div class=\"sk-text-repr-fallback\"><pre>RandomForestClassifier(random_state=42)</pre><b>In a Jupyter environment, please rerun this cell to show the HTML representation or trust the notebook. <br />On GitHub, the HTML representation is unable to render, please try loading this page with nbviewer.org.</b></div><div class=\"sk-container\" hidden><div class=\"sk-item\"><div class=\"sk-estimator sk-toggleable\"><input class=\"sk-toggleable__control sk-hidden--visually\" id=\"sk-estimator-id-1\" type=\"checkbox\" checked><label for=\"sk-estimator-id-1\" class=\"sk-toggleable__label sk-toggleable__label-arrow\">RandomForestClassifier</label><div class=\"sk-toggleable__content\"><pre>RandomForestClassifier(random_state=42)</pre></div></div></div></div></div>"
      ],
      "text/plain": [
       "RandomForestClassifier(random_state=42)"
      ]
     },
     "execution_count": 34,
     "metadata": {},
     "output_type": "execute_result"
    }
   ],
   "source": [
    "# Random Forest\n",
    "rf_optimized.fit(X_train, y_train)"
   ]
  },
  {
   "cell_type": "code",
   "execution_count": 35,
   "id": "1d51fca5",
   "metadata": {},
   "outputs": [
    {
     "data": {
      "text/html": [
       "<style>#sk-container-id-2 {color: black;}#sk-container-id-2 pre{padding: 0;}#sk-container-id-2 div.sk-toggleable {background-color: white;}#sk-container-id-2 label.sk-toggleable__label {cursor: pointer;display: block;width: 100%;margin-bottom: 0;padding: 0.3em;box-sizing: border-box;text-align: center;}#sk-container-id-2 label.sk-toggleable__label-arrow:before {content: \"▸\";float: left;margin-right: 0.25em;color: #696969;}#sk-container-id-2 label.sk-toggleable__label-arrow:hover:before {color: black;}#sk-container-id-2 div.sk-estimator:hover label.sk-toggleable__label-arrow:before {color: black;}#sk-container-id-2 div.sk-toggleable__content {max-height: 0;max-width: 0;overflow: hidden;text-align: left;background-color: #f0f8ff;}#sk-container-id-2 div.sk-toggleable__content pre {margin: 0.2em;color: black;border-radius: 0.25em;background-color: #f0f8ff;}#sk-container-id-2 input.sk-toggleable__control:checked~div.sk-toggleable__content {max-height: 200px;max-width: 100%;overflow: auto;}#sk-container-id-2 input.sk-toggleable__control:checked~label.sk-toggleable__label-arrow:before {content: \"▾\";}#sk-container-id-2 div.sk-estimator input.sk-toggleable__control:checked~label.sk-toggleable__label {background-color: #d4ebff;}#sk-container-id-2 div.sk-label input.sk-toggleable__control:checked~label.sk-toggleable__label {background-color: #d4ebff;}#sk-container-id-2 input.sk-hidden--visually {border: 0;clip: rect(1px 1px 1px 1px);clip: rect(1px, 1px, 1px, 1px);height: 1px;margin: -1px;overflow: hidden;padding: 0;position: absolute;width: 1px;}#sk-container-id-2 div.sk-estimator {font-family: monospace;background-color: #f0f8ff;border: 1px dotted black;border-radius: 0.25em;box-sizing: border-box;margin-bottom: 0.5em;}#sk-container-id-2 div.sk-estimator:hover {background-color: #d4ebff;}#sk-container-id-2 div.sk-parallel-item::after {content: \"\";width: 100%;border-bottom: 1px solid gray;flex-grow: 1;}#sk-container-id-2 div.sk-label:hover label.sk-toggleable__label {background-color: #d4ebff;}#sk-container-id-2 div.sk-serial::before {content: \"\";position: absolute;border-left: 1px solid gray;box-sizing: border-box;top: 0;bottom: 0;left: 50%;z-index: 0;}#sk-container-id-2 div.sk-serial {display: flex;flex-direction: column;align-items: center;background-color: white;padding-right: 0.2em;padding-left: 0.2em;position: relative;}#sk-container-id-2 div.sk-item {position: relative;z-index: 1;}#sk-container-id-2 div.sk-parallel {display: flex;align-items: stretch;justify-content: center;background-color: white;position: relative;}#sk-container-id-2 div.sk-item::before, #sk-container-id-2 div.sk-parallel-item::before {content: \"\";position: absolute;border-left: 1px solid gray;box-sizing: border-box;top: 0;bottom: 0;left: 50%;z-index: -1;}#sk-container-id-2 div.sk-parallel-item {display: flex;flex-direction: column;z-index: 1;position: relative;background-color: white;}#sk-container-id-2 div.sk-parallel-item:first-child::after {align-self: flex-end;width: 50%;}#sk-container-id-2 div.sk-parallel-item:last-child::after {align-self: flex-start;width: 50%;}#sk-container-id-2 div.sk-parallel-item:only-child::after {width: 0;}#sk-container-id-2 div.sk-dashed-wrapped {border: 1px dashed gray;margin: 0 0.4em 0.5em 0.4em;box-sizing: border-box;padding-bottom: 0.4em;background-color: white;}#sk-container-id-2 div.sk-label label {font-family: monospace;font-weight: bold;display: inline-block;line-height: 1.2em;}#sk-container-id-2 div.sk-label-container {text-align: center;}#sk-container-id-2 div.sk-container {/* jupyter's `normalize.less` sets `[hidden] { display: none; }` but bootstrap.min.css set `[hidden] { display: none !important; }` so we also need the `!important` here to be able to override the default hidden behavior on the sphinx rendered scikit-learn.org. See: https://github.com/scikit-learn/scikit-learn/issues/21755 */display: inline-block !important;position: relative;}#sk-container-id-2 div.sk-text-repr-fallback {display: none;}</style><div id=\"sk-container-id-2\" class=\"sk-top-container\"><div class=\"sk-text-repr-fallback\"><pre>SVC(C=1, random_state=42)</pre><b>In a Jupyter environment, please rerun this cell to show the HTML representation or trust the notebook. <br />On GitHub, the HTML representation is unable to render, please try loading this page with nbviewer.org.</b></div><div class=\"sk-container\" hidden><div class=\"sk-item\"><div class=\"sk-estimator sk-toggleable\"><input class=\"sk-toggleable__control sk-hidden--visually\" id=\"sk-estimator-id-2\" type=\"checkbox\" checked><label for=\"sk-estimator-id-2\" class=\"sk-toggleable__label sk-toggleable__label-arrow\">SVC</label><div class=\"sk-toggleable__content\"><pre>SVC(C=1, random_state=42)</pre></div></div></div></div></div>"
      ],
      "text/plain": [
       "SVC(C=1, random_state=42)"
      ]
     },
     "execution_count": 35,
     "metadata": {},
     "output_type": "execute_result"
    }
   ],
   "source": [
    "# Assuming rf_optimized and svm_optimized are already defined from GridSearchCV\n",
    "# and X_train, y_train are your training data and labels\n",
    "\n",
    "\n",
    "\n",
    "# SVM\n",
    "svm_optimized.fit(X_train, y_train)\n"
   ]
  },
  {
   "cell_type": "markdown",
   "id": "d0add9ac",
   "metadata": {},
   "source": [
    "# b) Evaluate the performance of the classification model using appropriate metrics"
   ]
  },
  {
   "cell_type": "code",
   "execution_count": 37,
   "id": "86cbb1ef",
   "metadata": {},
   "outputs": [
    {
     "name": "stdout",
     "output_type": "stream",
     "text": [
      "Random Forest Performance:\n",
      "              precision    recall  f1-score   support\n",
      "\n",
      "         0.0       0.97      0.99      0.98       157\n",
      "         1.0       0.98      0.96      0.97       111\n",
      "\n",
      "    accuracy                           0.98       268\n",
      "   macro avg       0.98      0.98      0.98       268\n",
      "weighted avg       0.98      0.98      0.98       268\n",
      "\n",
      "SVM Performance:\n",
      "              precision    recall  f1-score   support\n",
      "\n",
      "         0.0       1.00      1.00      1.00       157\n",
      "         1.0       1.00      1.00      1.00       111\n",
      "\n",
      "    accuracy                           1.00       268\n",
      "   macro avg       1.00      1.00      1.00       268\n",
      "weighted avg       1.00      1.00      1.00       268\n",
      "\n"
     ]
    }
   ],
   "source": [
    "from sklearn.metrics import accuracy_score, precision_score, recall_score, f1_score, confusion_matrix, classification_report\n",
    "\n",
    "# For Random Forest\n",
    "y_pred_rf = rf_optimized.predict(X_test)\n",
    "print(\"Random Forest Performance:\")\n",
    "print(classification_report(y_test, y_pred_rf))\n",
    "\n",
    "# For SVM\n",
    "y_pred_svm = svm_optimized.predict(X_test)\n",
    "print(\"SVM Performance:\")\n",
    "print(classification_report(y_test, y_pred_svm))\n"
   ]
  },
  {
   "cell_type": "markdown",
   "id": "5e2b2742",
   "metadata": {},
   "source": [
    "# a) analysing and vizualizing the confusion matrix for the model"
   ]
  },
  {
   "cell_type": "code",
   "execution_count": 38,
   "id": "3d4d3b21",
   "metadata": {},
   "outputs": [
    {
     "data": {
      "image/png": "[encoded data removed]",
      "text/plain": [
       "<Figure size 640x480 with 2 Axes>"
      ]
     },
     "metadata": {},
     "output_type": "display_data"
    },
    {
     "data": {
      "image/png": "[encoded data removed]",
      "text/plain": [
       "<Figure size 640x480 with 2 Axes>"
      ]
     },
     "metadata": {},
     "output_type": "display_data"
    }
   ],
   "source": [
    "from sklearn.metrics import confusion_matrix\n",
    "import seaborn as sns\n",
    "import matplotlib.pyplot as plt\n",
    "\n",
    "# Random Forest Confusion Matrix\n",
    "cm_rf = confusion_matrix(y_test, y_pred_rf)\n",
    "sns.heatmap(cm_rf, annot=True, fmt=\"d\", cmap=\"Blues\", xticklabels=[\"Forged\", \"Genuine\"], yticklabels=[\"Forged\", \"Genuine\"])\n",
    "plt.title('Random Forest Confusion Matrix')\n",
    "plt.xlabel('Predicted Label')\n",
    "plt.ylabel('True Label')\n",
    "plt.show()\n",
    "\n",
    "# SVM Confusion Matrix\n",
    "cm_svm = confusion_matrix(y_test, y_pred_svm)\n",
    "sns.heatmap(cm_svm, annot=True, fmt=\"d\", cmap=\"Greens\", xticklabels=[\"Forged\", \"Genuine\"], yticklabels=[\"Forged\", \"Genuine\"])\n",
    "plt.title('SVM Confusion Matrix')\n",
    "plt.xlabel('Predicted Label')\n",
    "plt.ylabel('True Label')\n",
    "plt.show()\n"
   ]
  },
  {
   "cell_type": "markdown",
   "id": "534dd2ae",
   "metadata": {},
   "source": [
    "# c) Implement k-fold cross-validation"
   ]
  },
  {
   "cell_type": "code",
   "execution_count": 59,
   "id": "d2646071",
   "metadata": {},
   "outputs": [
    {
     "name": "stdout",
     "output_type": "stream",
     "text": [
      "Random Forest - CV Scores: [0.99253731 0.99625468 0.98876404 0.99625468 0.99625468]\n",
      "Random Forest - Mean CV Accuracy: 0.9940130806640953\n",
      "SVM - CV Scores: [1. 1. 1. 1. 1.]\n",
      "SVM - Mean CV Accuracy: 1.0\n"
     ]
    }
   ],
   "source": [
    "from sklearn.model_selection import cross_val_score\n",
    "\n",
    "# For Random Forest\n",
    "cv_scores_rf = cross_val_score(rf_optimized, X, y, cv=5, scoring='accuracy')\n",
    "print(\"Random Forest - CV Scores:\", cv_scores_rf)\n",
    "print(\"Random Forest - Mean CV Accuracy:\", cv_scores_rf.mean())\n",
    "\n",
    "# For SVM\n",
    "cv_scores_svm = cross_val_score(svm_optimized, X, y, cv=5, scoring='accuracy')\n",
    "print(\"SVM - CV Scores:\", cv_scores_svm)\n",
    "print(\"SVM - Mean CV Accuracy:\", cv_scores_svm.mean())\n"
   ]
  },
  {
   "cell_type": "code",
   "execution_count": null,
   "id": "c75933ca",
   "metadata": {},
   "outputs": [],
   "source": []
  },
  {
   "cell_type": "code",
   "execution_count": null,
   "id": "a2010a8f",
   "metadata": {},
   "outputs": [],
   "source": []
  },
  {
   "cell_type": "code",
   "execution_count": null,
   "id": "bf4081ae",
   "metadata": {},
   "outputs": [],
   "source": []
  }
 ],
 "metadata": {
  "kernelspec": {
   "display_name": "Python 3 (ipykernel)",
   "language": "python",
   "name": "python3"
  },
  "language_info": {
   "codemirror_mode": {
    "name": "ipython",
    "version": 3
   },
   "file_extension": ".py",
   "mimetype": "text/x-python",
   "name": "python",
   "nbconvert_exporter": "python",
   "pygments_lexer": "ipython3",
   "version": "3.11.5"
  }
 },
 "nbformat": 4,
 "nbformat_minor": 5
}
